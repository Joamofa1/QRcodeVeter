{
 "cells": [
  {
   "cell_type": "code",
   "execution_count": 9,
   "id": "c8e60224",
   "metadata": {},
   "outputs": [],
   "source": [
    "import pyqrcode\n",
    "from pyqrcode import QRCode \n",
    "  "
   ]
  },
  {
   "cell_type": "code",
   "execution_count": 10,
   "id": "d61ccc2c",
   "metadata": {},
   "outputs": [],
   "source": [
    "#t represents the name for the data type\n",
    "t =\"https://www.youtube.com/watch?v=5ud8Bfbo9vk\""
   ]
  },
  {
   "cell_type": "code",
   "execution_count": 11,
   "id": "168a317b",
   "metadata": {},
   "outputs": [],
   "source": [
    "#Generate the QR code\n",
    "url = pyqrcode.create(t)"
   ]
  },
  {
   "cell_type": "code",
   "execution_count": 12,
   "id": "04dea206",
   "metadata": {},
   "outputs": [],
   "source": [
    "url.svg(\"myyoutube.jpeg\", scale = 10) "
   ]
  },
  {
   "cell_type": "code",
   "execution_count": null,
   "id": "fe4ff842",
   "metadata": {},
   "outputs": [],
   "source": []
  }
 ],
 "metadata": {
  "kernelspec": {
   "display_name": "Python 3",
   "language": "python",
   "name": "python3"
  },
  "language_info": {
   "codemirror_mode": {
    "name": "ipython",
    "version": 3
   },
   "file_extension": ".py",
   "mimetype": "text/x-python",
   "name": "python",
   "nbconvert_exporter": "python",
   "pygments_lexer": "ipython3",
   "version": "3.8.8"
  }
 },
 "nbformat": 4,
 "nbformat_minor": 5
}
